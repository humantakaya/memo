{
 "cells": [
  {
   "cell_type": "code",
   "execution_count": null,
   "metadata": {
    "collapsed": true
   },
   "outputs": [],
   "source": [
    "#githubへのアップロードの仕方メモ\n",
    "\n",
    "\n",
    "\n",
    "#jupyter-notebookを名前を付けて保存(Rename)\n",
    "\n",
    "#ローカルリポジトリを作成する。\n",
    "\n",
    "#urlをコピペして\n",
    "#$ git clone git@github.com: ユーザー名 / リポジトリ名 .git\n",
    "\n",
    "\n",
    "#作成したフォルダの中にjupyterのファイルを持ってくる。\n",
    "\n",
    "\n",
    "\n",
    "#git add takaya.ipynb\n",
    "\n",
    "#git commit -m \"hello!\"\n",
    "\n",
    "#git push origin master\n",
    "\n",
    "#以上"
   ]
  }
 ],
 "metadata": {
  "kernelspec": {
   "display_name": "Python 3",
   "language": "python",
   "name": "python3"
  },
  "language_info": {
   "codemirror_mode": {
    "name": "ipython",
    "version": 3
   },
   "file_extension": ".py",
   "mimetype": "text/x-python",
   "name": "python",
   "nbconvert_exporter": "python",
   "pygments_lexer": "ipython3",
   "version": "3.6.3"
  }
 },
 "nbformat": 4,
 "nbformat_minor": 2
}
